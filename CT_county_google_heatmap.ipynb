{
 "cells": [
  {
   "cell_type": "markdown",
   "metadata": {},
   "source": [
    "This was the initial code for the project analyzing Drug Mortality in Connecticut. In this I use\n",
    "1. BeautifulSoup to webscrape Wikipedia to get county names in Connectticut.\n",
    "2. Use API from CT government to get drug mortality data.\n",
    "3. Use google geocode to get the latitude and longitude information for each county. Turns out that there are only 8 counties in CT, so getting the locations of those 8 at once gives much better performance over getting location every time for each row.\n",
    "4. Use gmaps to plot a heatmap. This shows locations of highest deaths.\n",
    "\n",
    "Why this code was discarded.\n",
    "1. The API does not give the latest and greatest data. There is a speadsheet on data.gov which has latest data.\n",
    "2. Heatmap is not very nice to visualize the data here - there are only 8 spots on the map, and it does not look good. Choropleth is a better map to use. \n",
    "3. Because of #2, I do not need latitude, longitude location.\n",
    "\n",
    "Neverthless, this taught me a thing or two :-)."
   ]
  },
  {
   "cell_type": "code",
   "execution_count": 1,
   "metadata": {},
   "outputs": [],
   "source": [
    "import pandas as pd\n",
    "import gmplot\n",
    "import requests\n",
    "from bs4 import BeautifulSoup\n",
    "from config import gkey\n",
    "import gmaps\n",
    "import re\n",
    "from pprint import pprint\n",
    "from sodapy import Socrata\n",
    "import numpy as np\n",
    "from IPython.display import Image"
   ]
  },
  {
   "cell_type": "code",
   "execution_count": 2,
   "metadata": {},
   "outputs": [],
   "source": [
    "wiki = \"https://en.wikipedia.org/wiki/List_of_counties_in_Connecticut\"\n",
    "req = requests.get(wiki)\n",
    "soup = BeautifulSoup(req.text,\"lxml\")\n",
    "table = soup.find(\"table\", { \"class\" : \"wikitable sortable\" })"
   ]
  },
  {
   "cell_type": "code",
   "execution_count": 3,
   "metadata": {},
   "outputs": [
    {
     "data": {
      "text/plain": [
       "['Fairfield',\n",
       " 'Hartford',\n",
       " 'Litchfield',\n",
       " 'Middlesex',\n",
       " 'New Haven',\n",
       " 'New London',\n",
       " 'Tolland',\n",
       " 'Windham']"
      ]
     },
     "execution_count": 3,
     "metadata": {},
     "output_type": "execute_result"
    }
   ],
   "source": [
    "counties_list = []\n",
    "for row in table.findAll(\"tr\"):\n",
    "    cells = row.findAll(\"td\")\n",
    "    if cells:\n",
    "        county = cells[0].find(text=True)\n",
    "        county = re.sub(\"County\",\"\",county).title().rstrip()\n",
    "        counties_list.append(county)\n",
    "counties_list"
   ]
  },
  {
   "cell_type": "code",
   "execution_count": 4,
   "metadata": {},
   "outputs": [
    {
     "name": "stdout",
     "output_type": "stream",
     "text": [
      "{'Fairfield': {'lat': 41.2559654, 'lng': -73.37086959999999},\n",
      " 'Hartford': {'lat': 41.7924343, 'lng': -72.8042797},\n",
      " 'Litchfield': {'lat': 41.7866294, 'lng': -73.2765361},\n",
      " 'Middlesex': {'lat': 41.46985050000001, 'lng': -72.4731529},\n",
      " 'New Haven': {'lat': 41.3266911, 'lng': -72.8042797},\n",
      " 'New London': {'lat': 41.5185189, 'lng': -72.0468164},\n",
      " 'Tolland': {'lat': 41.8418987, 'lng': -72.37846789999999},\n",
      " 'Windham': {'lat': 41.8275622, 'lng': -72.0468164}}\n"
     ]
    }
   ],
   "source": [
    "geo_location = {county:{} for county in counties_list}\n",
    "for county in counties_list:\n",
    "    target_url = f\"https://maps.googleapis.com/maps/api/geocode/json?\" \\\n",
    "            f\"address={county} county,CT&key={gkey}\"\n",
    "    try:\n",
    "        geo_data = requests.get(target_url).json() \n",
    "        lat = geo_data[\"results\"][0][\"geometry\"][\"location\"][\"lat\"]\n",
    "        lng = geo_data[\"results\"][0][\"geometry\"][\"location\"][\"lng\"]\n",
    "    except Exception as exp:\n",
    "        print(f\"ERROR2:{exp}, {geo_data}\")\n",
    "        lat = \"\"\n",
    "        lng = \"\"\n",
    "    geo_location[county][\"lat\"] = lat\n",
    "    geo_location[county]['lng'] = lng\n",
    "    \n",
    "pprint(geo_location)"
   ]
  },
  {
   "cell_type": "code",
   "execution_count": 5,
   "metadata": {},
   "outputs": [
    {
     "name": "stderr",
     "output_type": "stream",
     "text": [
      "WARNING:root:Requests made without an app_token will be subject to strict throttling limits.\n"
     ]
    },
    {
     "data": {
      "text/plain": [
       "Index([':@computed_region_dam5_q64j', ':@computed_region_m4y2_whse',\n",
       "       ':@computed_region_nhmp_cq6b', ':@computed_region_snd5_k6zv', 'age',\n",
       "       'amphet', 'any_opioid', 'benzo_s', 'casenumber', 'coc', 'date',\n",
       "       'death_city', 'death_county', 'death_state', 'deathloc',\n",
       "       'deathloc_city', 'deathloc_state', 'etoh', 'fentanyl', 'heroin',\n",
       "       'hydr_cod', 'immediatecausea', 'injuryplace', 'location',\n",
       "       'mannerofdeath', 'methadone', 'morphine_not_heroin', 'other', 'oxyc',\n",
       "       'oxym', 'race', 'residence_city', 'residence_county', 'residence_state',\n",
       "       'sex', 'tramad'],\n",
       "      dtype='object')"
      ]
     },
     "execution_count": 5,
     "metadata": {},
     "output_type": "execute_result"
    }
   ],
   "source": [
    "client = Socrata(\"data.ct.gov\", None)\n",
    "results = client.get(\"u2qy-687x\")\n",
    "results_df = pd.DataFrame.from_records(results)\n",
    "results_df.columns"
   ]
  },
  {
   "cell_type": "code",
   "execution_count": 6,
   "metadata": {},
   "outputs": [],
   "source": [
    "results_df = results_df.dropna(subset=['death_county'])\n",
    "target_url = f\"https://maps.googleapis.com/maps/api/geocode/json?\" \\\n",
    "            f\"address=Hartford,CT,USA&key={gkey}\"\n",
    "try:\n",
    "    geo_data = requests.get(target_url).json() \n",
    "    CT_lat = geo_data[\"results\"][0][\"geometry\"][\"location\"][\"lat\"]\n",
    "    CT_lng = geo_data[\"results\"][0][\"geometry\"][\"location\"][\"lng\"]\n",
    "except:\n",
    "    print (\"Cannot find geocode for Hartford\")"
   ]
  },
  {
   "cell_type": "code",
   "execution_count": 7,
   "metadata": {},
   "outputs": [],
   "source": [
    "gmap = gmplot.GoogleMapPlotter(CT_lat,CT_lng,10)"
   ]
  },
  {
   "cell_type": "code",
   "execution_count": 8,
   "metadata": {},
   "outputs": [],
   "source": [
    "def get_geocode(row):\n",
    "    place = row[\"death_county\"].title()\n",
    "    try:\n",
    "        row[\"lat\"] = geo_location[place][\"lat\"]\n",
    "        row['lng'] = geo_location[place][\"lng\"]\n",
    "    except:\n",
    "        print (f\"Cannot find {place} in CT counties, {row.name}.\")\n",
    "        row[\"lat\"] = np.nan\n",
    "        row[\"lng\"] = np.nan\n",
    "    return row"
   ]
  },
  {
   "cell_type": "code",
   "execution_count": 9,
   "metadata": {},
   "outputs": [
    {
     "name": "stdout",
     "output_type": "stream",
     "text": [
      "Cannot find Usa in CT counties, 243.\n"
     ]
    },
    {
     "data": {
      "text/html": [
       "<div>\n",
       "<style scoped>\n",
       "    .dataframe tbody tr th:only-of-type {\n",
       "        vertical-align: middle;\n",
       "    }\n",
       "\n",
       "    .dataframe tbody tr th {\n",
       "        vertical-align: top;\n",
       "    }\n",
       "\n",
       "    .dataframe thead th {\n",
       "        text-align: right;\n",
       "    }\n",
       "</style>\n",
       "<table border=\"1\" class=\"dataframe\">\n",
       "  <thead>\n",
       "    <tr style=\"text-align: right;\">\n",
       "      <th></th>\n",
       "      <th>:@computed_region_dam5_q64j</th>\n",
       "      <th>:@computed_region_m4y2_whse</th>\n",
       "      <th>:@computed_region_nhmp_cq6b</th>\n",
       "      <th>:@computed_region_snd5_k6zv</th>\n",
       "      <th>age</th>\n",
       "      <th>amphet</th>\n",
       "      <th>any_opioid</th>\n",
       "      <th>benzo_s</th>\n",
       "      <th>casenumber</th>\n",
       "      <th>coc</th>\n",
       "      <th>...</th>\n",
       "      <th>oxyc</th>\n",
       "      <th>oxym</th>\n",
       "      <th>race</th>\n",
       "      <th>residence_city</th>\n",
       "      <th>residence_county</th>\n",
       "      <th>residence_state</th>\n",
       "      <th>sex</th>\n",
       "      <th>tramad</th>\n",
       "      <th>lat</th>\n",
       "      <th>lng</th>\n",
       "    </tr>\n",
       "  </thead>\n",
       "  <tbody>\n",
       "    <tr>\n",
       "      <th>0</th>\n",
       "      <td>1045</td>\n",
       "      <td>59</td>\n",
       "      <td>243</td>\n",
       "      <td>8</td>\n",
       "      <td>53</td>\n",
       "      <td>NaN</td>\n",
       "      <td>NaN</td>\n",
       "      <td>Y</td>\n",
       "      <td>13-16336</td>\n",
       "      <td>NaN</td>\n",
       "      <td>...</td>\n",
       "      <td>Y</td>\n",
       "      <td>Y</td>\n",
       "      <td>White</td>\n",
       "      <td>GROTON</td>\n",
       "      <td>NEW LONDON</td>\n",
       "      <td>NaN</td>\n",
       "      <td>Female</td>\n",
       "      <td>NaN</td>\n",
       "      <td>41.518519</td>\n",
       "      <td>-72.046816</td>\n",
       "    </tr>\n",
       "    <tr>\n",
       "      <th>1</th>\n",
       "      <td>1044</td>\n",
       "      <td>151</td>\n",
       "      <td>167</td>\n",
       "      <td>4</td>\n",
       "      <td>30</td>\n",
       "      <td>NaN</td>\n",
       "      <td>NaN</td>\n",
       "      <td>NaN</td>\n",
       "      <td>12-18447</td>\n",
       "      <td>Y</td>\n",
       "      <td>...</td>\n",
       "      <td>Y</td>\n",
       "      <td>NaN</td>\n",
       "      <td>White</td>\n",
       "      <td>WOLCOTT</td>\n",
       "      <td>NEW HAVEN</td>\n",
       "      <td>NaN</td>\n",
       "      <td>Male</td>\n",
       "      <td>NaN</td>\n",
       "      <td>41.326691</td>\n",
       "      <td>-72.804280</td>\n",
       "    </tr>\n",
       "    <tr>\n",
       "      <th>3</th>\n",
       "      <td>1044</td>\n",
       "      <td>148</td>\n",
       "      <td>195</td>\n",
       "      <td>7</td>\n",
       "      <td>24</td>\n",
       "      <td>NaN</td>\n",
       "      <td>NaN</td>\n",
       "      <td>NaN</td>\n",
       "      <td>14-13497</td>\n",
       "      <td>NaN</td>\n",
       "      <td>...</td>\n",
       "      <td>NaN</td>\n",
       "      <td>NaN</td>\n",
       "      <td>White</td>\n",
       "      <td>WALLINGFORD</td>\n",
       "      <td>NaN</td>\n",
       "      <td>NaN</td>\n",
       "      <td>Female</td>\n",
       "      <td>NaN</td>\n",
       "      <td>41.326691</td>\n",
       "      <td>-72.804280</td>\n",
       "    </tr>\n",
       "    <tr>\n",
       "      <th>4</th>\n",
       "      <td>1044</td>\n",
       "      <td>156</td>\n",
       "      <td>11</td>\n",
       "      <td>7</td>\n",
       "      <td>26</td>\n",
       "      <td>NaN</td>\n",
       "      <td>NaN</td>\n",
       "      <td>NaN</td>\n",
       "      <td>13-14421</td>\n",
       "      <td>NaN</td>\n",
       "      <td>...</td>\n",
       "      <td>NaN</td>\n",
       "      <td>NaN</td>\n",
       "      <td>White</td>\n",
       "      <td>WEST HAVEN</td>\n",
       "      <td>NEW HAVEN</td>\n",
       "      <td>NaN</td>\n",
       "      <td>Female</td>\n",
       "      <td>NaN</td>\n",
       "      <td>41.326691</td>\n",
       "      <td>-72.804280</td>\n",
       "    </tr>\n",
       "    <tr>\n",
       "      <th>5</th>\n",
       "      <td>1040</td>\n",
       "      <td>34</td>\n",
       "      <td>1</td>\n",
       "      <td>9</td>\n",
       "      <td>45</td>\n",
       "      <td>NaN</td>\n",
       "      <td>NaN</td>\n",
       "      <td>Y</td>\n",
       "      <td>13-18018</td>\n",
       "      <td>NaN</td>\n",
       "      <td>...</td>\n",
       "      <td>NaN</td>\n",
       "      <td>NaN</td>\n",
       "      <td>White</td>\n",
       "      <td>RIDGEFIELD</td>\n",
       "      <td>FAIRFIELD</td>\n",
       "      <td>NaN</td>\n",
       "      <td>Female</td>\n",
       "      <td>NaN</td>\n",
       "      <td>41.255965</td>\n",
       "      <td>-73.370870</td>\n",
       "    </tr>\n",
       "  </tbody>\n",
       "</table>\n",
       "<p>5 rows × 38 columns</p>\n",
       "</div>"
      ],
      "text/plain": [
       "  :@computed_region_dam5_q64j :@computed_region_m4y2_whse  \\\n",
       "0                        1045                          59   \n",
       "1                        1044                         151   \n",
       "3                        1044                         148   \n",
       "4                        1044                         156   \n",
       "5                        1040                          34   \n",
       "\n",
       "  :@computed_region_nhmp_cq6b :@computed_region_snd5_k6zv age amphet  \\\n",
       "0                         243                           8  53    NaN   \n",
       "1                         167                           4  30    NaN   \n",
       "3                         195                           7  24    NaN   \n",
       "4                          11                           7  26    NaN   \n",
       "5                           1                           9  45    NaN   \n",
       "\n",
       "  any_opioid benzo_s casenumber  coc    ...     oxyc oxym   race  \\\n",
       "0        NaN       Y   13-16336  NaN    ...        Y    Y  White   \n",
       "1        NaN     NaN   12-18447    Y    ...        Y  NaN  White   \n",
       "3        NaN     NaN   14-13497  NaN    ...      NaN  NaN  White   \n",
       "4        NaN     NaN   13-14421  NaN    ...      NaN  NaN  White   \n",
       "5        NaN       Y   13-18018  NaN    ...      NaN  NaN  White   \n",
       "\n",
       "  residence_city residence_county residence_state     sex tramad        lat  \\\n",
       "0         GROTON       NEW LONDON             NaN  Female    NaN  41.518519   \n",
       "1        WOLCOTT        NEW HAVEN             NaN    Male    NaN  41.326691   \n",
       "3    WALLINGFORD              NaN             NaN  Female    NaN  41.326691   \n",
       "4     WEST HAVEN        NEW HAVEN             NaN  Female    NaN  41.326691   \n",
       "5     RIDGEFIELD        FAIRFIELD             NaN  Female    NaN  41.255965   \n",
       "\n",
       "         lng  \n",
       "0 -72.046816  \n",
       "1 -72.804280  \n",
       "3 -72.804280  \n",
       "4 -72.804280  \n",
       "5 -73.370870  \n",
       "\n",
       "[5 rows x 38 columns]"
      ]
     },
     "execution_count": 9,
     "metadata": {},
     "output_type": "execute_result"
    }
   ],
   "source": [
    "results_df = results_df.apply(get_geocode,axis=1)\n",
    "#results_df[\"lng\"] = results_df.apply(get_geolng, axis=1)\n",
    "results_df = results_df.dropna(subset=['lat','lng'])\n",
    "results_df.head()"
   ]
  },
  {
   "cell_type": "code",
   "execution_count": 10,
   "metadata": {},
   "outputs": [],
   "source": [
    "gmap.heatmap(results_df.lat, results_df.lng)\n",
    "gmap.draw(\"my_heatmap.html\")"
   ]
  },
  {
   "cell_type": "code",
   "execution_count": 11,
   "metadata": {},
   "outputs": [
    {
     "data": {
      "image/jpeg": "[encoded data removed]",
      "text/plain": [
       "<IPython.core.display.Image object>"
      ]
     },
     "execution_count": 11,
     "metadata": {},
     "output_type": "execute_result"
    }
   ],
   "source": [
    "Image(\"./county_heatmap_google.jpg\")"
   ]
  },
  {
   "cell_type": "code",
   "execution_count": null,
   "metadata": {},
   "outputs": [],
   "source": []
  }
 ],
 "metadata": {
  "kernelspec": {
   "display_name": "Python [conda env:PythonData]",
   "language": "python",
   "name": "conda-env-PythonData-py"
  },
  "language_info": {
   "codemirror_mode": {
    "name": "ipython",
    "version": 3
   },
   "file_extension": ".py",
   "mimetype": "text/x-python",
   "name": "python",
   "nbconvert_exporter": "python",
   "pygments_lexer": "ipython3",
   "version": "3.6.5"
  }
 },
 "nbformat": 4,
 "nbformat_minor": 2
}
